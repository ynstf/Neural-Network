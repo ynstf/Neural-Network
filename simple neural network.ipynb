{
 "cells": [
  {
   "cell_type": "code",
   "execution_count": 1,
   "id": "dea26cf6",
   "metadata": {},
   "outputs": [],
   "source": [
    "import random\n",
    "import numpy as np\n",
    "import seaborn as sns\n",
    "import matplotlib.pyplot as plt"
   ]
  },
  {
   "cell_type": "markdown",
   "id": "eac56219",
   "metadata": {},
   "source": [
    "# functions : weights, biases, activation function, layers, outputs, loss function and fit"
   ]
  },
  {
   "cell_type": "code",
   "execution_count": 2,
   "id": "b800c200",
   "metadata": {
    "scrolled": true
   },
   "outputs": [],
   "source": [
    "def make_weights(lenth_input):\n",
    "    w = []\n",
    "    for i in range(lenth_input):\n",
    "        w.append((random.randint(1, 10))/10)\n",
    "    return w\n",
    "\n",
    "def make_bayeses(lenth_input):\n",
    "    b=[]\n",
    "    for i in range(lenth_input):\n",
    "        b.append((random.randint(1, 10))/10)\n",
    "    return b\n",
    "\n",
    "def make_bayese(lenth_input):\n",
    "    b=(random.randint(1, 10))/10\n",
    "    return b\n",
    "\n",
    "def normal(x):\n",
    "    return (x - x.min()) / (x.max() - x.min())\n",
    "\n",
    "def sigmoid(x):\n",
    "    return 1.0/(1+ np.exp(-x))\n",
    "\n",
    "def sigmoid_derivative(x):\n",
    "    return x * (1.0 - x)\n",
    "\n",
    "def layer(o, w, b):\n",
    "    somme = 0.0\n",
    "    for i in range(lenth_input):\n",
    "        somme = somme + (o[i]*w[i])+b\n",
    "    return somme\n",
    "\n",
    "def layer1(x, w1, b1):\n",
    "    o=[]\n",
    "    s=0\n",
    "    for i in range(4):\n",
    "        s+=x[i]*w1[i]\n",
    "    for j in range(4):\n",
    "        o.append(sigmoid(s+b1[j]))\n",
    "    return o\n",
    "\n",
    "def g(x):\n",
    "    if x>=0.75:\n",
    "        return 1\n",
    "    else:\n",
    "        return 0\n",
    "    \n",
    "def loss(y, x):\n",
    "    losses = 0\n",
    "    n=len(x)\n",
    "    for i,j in zip(x,y):\n",
    "        losses+=abs(j-output(layer1(i, w1, b1),w,b))\n",
    "    return (1/n)*losses\n",
    "\n",
    "\n",
    "def fit(x, y, w1, b1, w, b, learning_rate=0.06, epochs=5):\n",
    "    for epoch in range(epochs):\n",
    "        \n",
    "        for i in range(lenth_data):\n",
    "            x = np.array(x)\n",
    "            y = np.array(y)\n",
    "            xi = x[i]\n",
    "            yi = y[i]\n",
    "                \n",
    "            s = layer(xi, w, b)\n",
    "            prediction = sigmoid(s)\n",
    "            error = yi - prediction\n",
    "            w = w + learning_rate * error * sigmoid_derivative(prediction) * xi\n",
    "            b = b + learning_rate * error * sigmoid_derivative(prediction)\n",
    "            \n",
    "            prediction = output(layer1(xi, w1, b1),w,b)\n",
    "            error = yi - prediction\n",
    "            w1 = w1 + learning_rate * error * sigmoid_derivative(prediction) * xi\n",
    "            b1 = b1 + learning_rate * error * sigmoid_derivative(prediction)\n",
    "\n",
    "    return w1,b1,w, b\n",
    "\n",
    "def output(o, w, b):\n",
    "    return sigmoid(layer(o, w, b))\n",
    "\n",
    "def output1(inputs, w1, b1):\n",
    "    return sigmoid(layer1(inputs, w1, b1))\n",
    "\n",
    "def classe(x):\n",
    "    return g(output(layer1(x, w1, b1),w,b))    \n",
    "\n"
   ]
  },
  {
   "cell_type": "markdown",
   "id": "b1d411eb",
   "metadata": {},
   "source": [
    "# MAKE DATA"
   ]
  },
  {
   "cell_type": "code",
   "execution_count": 3,
   "id": "ffef0b2e",
   "metadata": {},
   "outputs": [
    {
     "name": "stdout",
     "output_type": "stream",
     "text": [
      "[0, 0, 0, 1] ---> 0\n",
      "[1, 0, 1, 0] ---> 1\n",
      "[0, 1, 0, 1] ---> 1\n",
      "[1, 1, 1, 1] ---> 1\n",
      "[1, 1, 1, 0] ---> 1\n",
      "[0, 0, 1, 0] ---> 0\n",
      "[1, 0, 0, 0] ---> 0\n",
      "[0, 0, 1, 1] ---> 1\n",
      "[1, 1, 0, 0] ---> 1\n",
      "[0, 1, 1, 1] ---> 1\n",
      "[1, 0, 1, 1] ---> 1\n",
      "[0, 1, 0, 0] ---> 0\n",
      "[0, 1, 1, 0] ---> 1\n",
      "[0, 0, 0, 0] ---> 0\n",
      "[1, 0, 0, 1] ---> 1\n",
      "[1, 1, 0, 1] ---> 1\n"
     ]
    }
   ],
   "source": [
    "def unique(list1):\n",
    "    unique_list = []\n",
    "    for x in list1:\n",
    "        if x not in unique_list:\n",
    "            unique_list.append(x)\n",
    "    return unique_list\n",
    "\n",
    "x=[]\n",
    "y=[]\n",
    "\n",
    "for i in range(1000):\n",
    "    r1= random.randint(0,1)\n",
    "    r2= random.randint(0,1)\n",
    "    r3= random.randint(0,1)\n",
    "    r4= random.randint(0,1)\n",
    "    x.append([r1,r2,r3,r4])\n",
    "\n",
    "x=unique(x)\n",
    "\n",
    "for i in x:\n",
    "    s=0\n",
    "    for j in range(len(i)):\n",
    "        s+=i[j]\n",
    "    if s>=2:\n",
    "        y.append(1)\n",
    "    elif s>=0 and s<2:\n",
    "        y.append(0)\n",
    "    else:\n",
    "        y.append(-1)\n",
    "for i,j in zip(x,y):\n",
    "    print(i,\"--->\",j)"
   ]
  },
  {
   "cell_type": "code",
   "execution_count": 4,
   "id": "5d488441",
   "metadata": {},
   "outputs": [
    {
     "name": "stdout",
     "output_type": "stream",
     "text": [
      "4 16\n"
     ]
    },
    {
     "data": {
      "text/plain": [
       "array([[0., 0., 0., 1.],\n",
       "       [1., 0., 1., 0.],\n",
       "       [0., 1., 0., 1.],\n",
       "       [1., 1., 1., 1.],\n",
       "       [1., 1., 1., 0.],\n",
       "       [0., 0., 1., 0.],\n",
       "       [1., 0., 0., 0.],\n",
       "       [0., 0., 1., 1.],\n",
       "       [1., 1., 0., 0.],\n",
       "       [0., 1., 1., 1.],\n",
       "       [1., 0., 1., 1.],\n",
       "       [0., 1., 0., 0.],\n",
       "       [0., 1., 1., 0.],\n",
       "       [0., 0., 0., 0.],\n",
       "       [1., 0., 0., 1.],\n",
       "       [1., 1., 0., 1.]])"
      ]
     },
     "execution_count": 4,
     "metadata": {},
     "output_type": "execute_result"
    }
   ],
   "source": [
    "lenth_data = len(x)\n",
    "lenth_input = len(x[0])\n",
    "print(lenth_input, lenth_data)\n",
    "x=normal(np.array(x))\n",
    "x"
   ]
  },
  {
   "cell_type": "code",
   "execution_count": 5,
   "id": "549bcda9",
   "metadata": {
    "scrolled": true
   },
   "outputs": [
    {
     "data": {
      "text/plain": [
       "(16, 16)"
      ]
     },
     "execution_count": 5,
     "metadata": {},
     "output_type": "execute_result"
    }
   ],
   "source": [
    "len(x),len(y)"
   ]
  },
  {
   "cell_type": "markdown",
   "id": "4e68d14a",
   "metadata": {},
   "source": [
    "# data destrubition "
   ]
  },
  {
   "cell_type": "code",
   "execution_count": 6,
   "id": "820ecf1a",
   "metadata": {},
   "outputs": [
    {
     "name": "stdout",
     "output_type": "stream",
     "text": [
      "one : 11 ,zero : 5 ,mines : 0\n"
     ]
    }
   ],
   "source": [
    "one,zero,mines=0,0,0\n",
    "for i in y:\n",
    "    if i ==1:\n",
    "        one+=1\n",
    "    elif i==0:\n",
    "        zero+=1\n",
    "    else:\n",
    "        mines+=1\n",
    "print(\"one :\",one,\",zero :\",zero,\",mines :\",mines)"
   ]
  },
  {
   "cell_type": "markdown",
   "id": "59daf42f",
   "metadata": {},
   "source": [
    "# making weights and biases"
   ]
  },
  {
   "cell_type": "code",
   "execution_count": 7,
   "id": "7af4e680",
   "metadata": {
    "scrolled": true
   },
   "outputs": [
    {
     "name": "stdout",
     "output_type": "stream",
     "text": [
      "w1: [0.1, 0.1, 0.6, 1.0]\n",
      "w: [1.0, 0.4, 0.6, 0.8]\n",
      "b1 [0.7, 0.9, 0.6, 1.0]\n",
      "b 0.1\n",
      "loss 0.32786677715720797\n"
     ]
    }
   ],
   "source": [
    "w1 = make_weights(lenth_input)\n",
    "b1 = make_bayeses(lenth_input)\n",
    "w = make_weights(lenth_input)\n",
    "b = make_bayese(lenth_input)\n",
    "\n",
    "print(\"w1:\",w1)\n",
    "print(\"w:\",w)\n",
    "print(\"b1\",b1)\n",
    "print(\"b\",b)\n",
    "print(\"loss\",loss(y,x))\n"
   ]
  },
  {
   "cell_type": "markdown",
   "id": "44b7cb83",
   "metadata": {},
   "source": [
    "# Training"
   ]
  },
  {
   "cell_type": "code",
   "execution_count": 8,
   "id": "45a2503e",
   "metadata": {
    "scrolled": false
   },
   "outputs": [
    {
     "name": "stdout",
     "output_type": "stream",
     "text": [
      "loss 0.3379795005091819\n",
      "loss 0.2923347565006036\n",
      "loss 0.23819963627528698\n",
      "loss 0.1965406294143724\n",
      "loss 0.16548785691962503\n",
      "loss 0.14183145615447992\n",
      "loss 0.12338243989579849\n",
      "loss 0.10870122572912723\n",
      "loss 0.09681333187433941\n",
      "loss 0.0870396657904064\n",
      "loss 0.07889539066776721\n",
      "loss 0.07202716620163524\n",
      "loss 0.06617279003513829\n",
      "loss 0.061134508203663715\n",
      "loss 0.056760959049796084\n",
      "loss 0.052934717544908624\n",
      "loss 0.04956355257373858\n",
      "loss 0.046574192583580136\n",
      "loss 0.04390781461682266\n",
      "loss 0.04151673583643231\n",
      "loss 0.039361956202388866\n",
      "loss 0.0374113117239051\n",
      "loss 0.03563807123078386\n",
      "loss 0.03401985912298862\n",
      "loss 0.03253782036704684\n",
      "loss 0.03117596739293912\n",
      "loss 0.02992066491801713\n",
      "loss 0.02876022032072162\n",
      "loss 0.027684555490073686\n",
      "loss 0.026684942083977446\n",
      "loss 0.025753786518068703\n",
      "loss 0.02488445424309597\n",
      "loss 0.02407112527641501\n",
      "loss 0.02330867475935374\n",
      "loss 0.022592573678014732\n",
      "loss 0.021918805925763868\n",
      "loss 0.02128379868431665\n",
      "loss 0.020684363717493416\n",
      "loss 0.02011764765173587\n",
      "loss 0.01958108969319246\n",
      "loss 0.01907238552698231\n",
      "loss 0.0185894563784871\n",
      "loss 0.018130422403010323\n",
      "loss 0.017693579719392286\n",
      "loss 0.017277380523220615\n",
      "loss 0.016880415812286408\n",
      "loss 0.016501400335711906\n"
     ]
    }
   ],
   "source": [
    "presision = 60\n",
    "loses=[]\n",
    "while loss(y,x)>=(1/presision):\n",
    "    w1,b1,w, b = fit(x, y, w1, b1, w, b, learning_rate=0.06, epochs=50)\n",
    "    loses.append(loss(y,x))\n",
    "    print(\"loss\",loss(y,x))"
   ]
  },
  {
   "cell_type": "markdown",
   "id": "1874174a",
   "metadata": {},
   "source": [
    "# predict"
   ]
  },
  {
   "cell_type": "code",
   "execution_count": 12,
   "id": "75feff82",
   "metadata": {
    "scrolled": true
   },
   "outputs": [
    {
     "data": {
      "text/plain": [
       "(0, 1, 0, 1)"
      ]
     },
     "execution_count": 12,
     "metadata": {},
     "output_type": "execute_result"
    }
   ],
   "source": [
    "classe([0,1,0,0]), classe([1,0,1,0]), classe([0,0,0,0]), classe([1,1,1,1]) #>=2"
   ]
  },
  {
   "cell_type": "markdown",
   "id": "97d0ebe2",
   "metadata": {},
   "source": [
    "# Model Evaluation"
   ]
  },
  {
   "cell_type": "code",
   "execution_count": 13,
   "id": "0cf79ec2",
   "metadata": {
    "scrolled": true
   },
   "outputs": [
    {
     "data": {
      "text/plain": [
       "<AxesSubplot:>"
      ]
     },
     "execution_count": 13,
     "metadata": {},
     "output_type": "execute_result"
    },
    {
     "data": {
      "image/png": "[encoded data removed]",
      "text/plain": [
       "<Figure size 432x288 with 1 Axes>"
      ]
     },
     "metadata": {
      "needs_background": "light"
     },
     "output_type": "display_data"
    }
   ],
   "source": [
    "k = [x for x in range(len(loses))]\n",
    "sns.scatterplot(x=k, y=loses )\n",
    "#sns.regplot(x=k, y=loses)"
   ]
  },
  {
   "cell_type": "markdown",
   "id": "60752f41",
   "metadata": {},
   "source": [
    "# the final weights, biases and loss"
   ]
  },
  {
   "cell_type": "code",
   "execution_count": 14,
   "id": "edfe4aa9",
   "metadata": {},
   "outputs": [
    {
     "name": "stdout",
     "output_type": "stream",
     "text": [
      "w1: [1.83734758 1.83718216 1.83728103 1.83698186]\n",
      "b1: [-3.47127535 -3.27127535 -3.57127535 -3.17127535]\n",
      "\n",
      "w: [4.53990617 4.53961373 4.53984572 4.53951652]\n",
      "b: -1.6664740370877826\n",
      "\n",
      "loss: 0.016501400335711906\n"
     ]
    }
   ],
   "source": [
    "print(\"w1:\",w1)\n",
    "print(\"b1:\",b1)\n",
    "print()\n",
    "print(\"w:\",w)\n",
    "print(\"b:\",b)\n",
    "print()\n",
    "print(\"loss:\",loss(y,x))"
   ]
  },
  {
   "cell_type": "code",
   "execution_count": null,
   "id": "a289dcbe",
   "metadata": {},
   "outputs": [],
   "source": []
  }
 ],
 "metadata": {
  "kernelspec": {
   "display_name": "Python 3 (ipykernel)",
   "language": "python",
   "name": "python3"
  },
  "language_info": {
   "codemirror_mode": {
    "name": "ipython",
    "version": 3
   },
   "file_extension": ".py",
   "mimetype": "text/x-python",
   "name": "python",
   "nbconvert_exporter": "python",
   "pygments_lexer": "ipython3",
   "version": "3.9.12"
  }
 },
 "nbformat": 4,
 "nbformat_minor": 5
}
